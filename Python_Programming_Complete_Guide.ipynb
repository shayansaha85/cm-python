{
 "cells": [
  {
   "cell_type": "markdown",
   "metadata": {},
   "source": [
    "# Complete Python Programming Guide\n",
    "## From Basics to Advanced Concepts\n",
    "\n",
    "This notebook covers essential Python programming concepts with practical examples and exercises. Perfect for beginners learning Python programming.\n",
    "\n",
    "### Topics Covered:\n",
    "1. Basic Python Syntax\n",
    "2. Variables and Data Types\n",
    "3. Mathematical Operations\n",
    "4. User Input\n",
    "5. Conditional Statements\n",
    "6. String Operations\n",
    "7. Loops (For and While)\n",
    "8. Programming Exercises"
   ]
  },
  {
   "cell_type": "markdown",
   "metadata": {},
   "source": [
    "## 1. Basic Python Syntax\n",
    "\n",
    "### Print Statements\n",
    "The `print()` function is used to display output on the console. Whatever we write inside print(), it will be displayed on the command prompt or terminal."
   ]
  },
  {
   "cell_type": "code",
   "execution_count": null,
   "metadata": {},
   "outputs": [],
   "source": [
    "# Basic print statements\n",
    "print('Hello World')\n",
    "print(\"Hello World Again\")"
   ]
  },
  {
   "cell_type": "markdown",
   "metadata": {},
   "source": [
    "### Sequential Execution\n",
    "\n",
    "Python code executes line by line from top to bottom. Variables can be reassigned, and the latest value is used."
   ]
  },
  {
   "cell_type": "code",
   "execution_count": null,
   "metadata": {},
   "outputs": [],
   "source": [
    "# Python executes line by line\n",
    "x = 9   # The value of x is assigned as 9\n",
    "x = 12  # The value of x is updated, and assigned as 12\n",
    "print(x)  # It will print 12\n",
    "\n",
    "x = 19  # The value of x again updated to 19\n",
    "print(x)  # It will print 19"
   ]
  },
  {
   "cell_type": "markdown",
   "metadata": {},
   "source": [
    "## 2. Variables and Data Types\n",
    "\n",
    "Variables in Python can store different types of data. Python automatically determines the data type based on the value assigned."
   ]
  },
  {
   "cell_type": "code",
   "execution_count": null,
   "metadata": {},
   "outputs": [],
   "source": [
    "# Different data types in Python\n",
    "x = 5        # integer | In python we call it as 'int'\n",
    "y = 3.56     # decimals / floating number | In python we call it as 'float'\n",
    "n = 'Shayan' # string value | In python we call it as 'str'\n",
    "k = True     # boolean value | In python we call it as 'bool'\n",
    "p = False    # boolean value | In python we call it as 'bool'\n",
    "\n",
    "# Check data types using type() function\n",
    "print(type(x))\n",
    "print(type(y))\n",
    "print(type(n))\n",
    "print(type(k))\n",
    "print(type(p))"
   ]
  },
  {
   "cell_type": "markdown",
   "metadata": {},
   "source": [
    "### Type Casting\n",
    "\n",
    "Sometimes we need to convert one data type to another. This is called type casting."
   ]
  },
  {
   "cell_type": "code",
   "execution_count": null,
   "metadata": {},
   "outputs": [],
   "source": [
    "# Type casting example\n",
    "number = '65'  # This is a string\n",
    "\n",
    "print(number * 2)        # will return 6565 (string concatenation)\n",
    "print(int(number) * 2)   # will return 130 (mathematical multiplication)"
   ]
  },
  {
   "cell_type": "markdown",
   "metadata": {},
   "source": [
    "## 3. Mathematical Operations\n",
    "\n",
    "Python supports all basic mathematical operations and some advanced ones."
   ]
  },
  {
   "cell_type": "code",
   "execution_count": null,
   "metadata": {},
   "outputs": [],
   "source": [
    "# Mathematical operations\n",
    "num1 = 75\n",
    "num2 = 7.63\n",
    "\n",
    "print(\"Addition:\", num1 + num2)\n",
    "print(\"Subtraction:\", num1 - num2)\n",
    "print(\"Multiplication:\", num1 * num2)\n",
    "print(\"Division:\", num1 / num2)      # decimal divide\n",
    "print(\"Integer Division:\", num1 // num2)  # integer divide\n",
    "\n",
    "# Power operation\n",
    "base = 2\n",
    "pow = 5\n",
    "print(\"Power:\", base ** pow)  # 2^5 = 32\n",
    "\n",
    "# String operations\n",
    "print('Chandini' + '75')  # String concatenation: Chandini75\n",
    "print('*' * 10)          # String repetition: **********\n",
    "\n",
    "# Modulo operator (remainder)\n",
    "n = 5 % 2  # remainder when 5 is divided by 2\n",
    "print(\"Remainder:\", n)"
   ]
  },
  {
   "cell_type": "markdown",
   "metadata": {},
   "source": [
    "### Augmented Operators\n",
    "\n",
    "Augmented operators provide a shortcut for common operations like addition, subtraction, multiplication, etc."
   ]
  },
  {
   "cell_type": "code",
   "execution_count": null,
   "metadata": {},
   "outputs": [],
   "source": [
    "# Augmented operators: +=, -=, *=, /=\n",
    "x = 1\n",
    "sum = 0\n",
    "\n",
    "sum += x  # same as: sum = sum + x\n",
    "sum += x\n",
    "sum += x\n",
    "print(\"Sum using +=:\", sum)\n",
    "\n",
    "# Multiplication example\n",
    "result = 2\n",
    "result *= 3  # same as: result = result * 3\n",
    "print(\"Result using *=:\", result)"
   ]
  },
  {
   "cell_type": "markdown",
   "metadata": {},
   "source": [
    "## 4. User Input\n",
    "\n",
    "The `input()` function allows us to get input from the user. It always returns a string, so we need to convert it if we need other data types."
   ]
  },
  {
   "cell_type": "code",
   "execution_count": null,
   "metadata": {},
   "outputs": [],
   "source": [
    "# Getting user input\n",
    "# Note: In Jupyter notebook, you'll need to run this cell to see the input prompt\n",
    "\n",
    "# Basic input (uncomment to run)\n",
    "# num = int(input('Enter a number : '))  # Convert input to integer\n",
    "# print(num * 2)\n",
    "\n",
    "# For demonstration, let's use a fixed value\n",
    "num = 25  # Simulating user input\n",
    "print(f\"Number entered: {num}\")\n",
    "print(f\"Double the number: {num * 2}\")"
   ]
  },
  {
   "cell_type": "markdown",
   "metadata": {},
   "source": [
    "## 5. Conditional Statements\n",
    "\n",
    "Conditional statements allow us to make decisions in our code based on certain conditions."
   ]
  },
  {
   "cell_type": "markdown",
   "metadata": {},
   "source": [
    "### Boolean Concepts\n",
    "\n",
    "Boolean operations return True or False and are fundamental for conditional statements."
   ]
  },
  {
   "cell_type": "code",
   "execution_count": null,
   "metadata": {},
   "outputs": [],
   "source": [
    "# Boolean operations and comparisons\n",
    "number1 = 23\n",
    "number2 = 24\n",
    "\n",
    "print(\"Equal?\", number1 == number2)        # Are they same?\n",
    "print(\"Not equal?\", number1 != number2)    # Are they not equal?\n",
    "print(\"Greater than?\", number1 > number2)  # Is number1 greater?\n",
    "print(\"Less than?\", number1 < number2)     # Is number1 smaller?\n",
    "\n",
    "k = 56\n",
    "p = 56\n",
    "print(\"Greater than or equal?\", k >= p)    # True\n",
    "print(\"Less than or equal?\", k <= p)       # True"
   ]
  },
  {
   "cell_type": "markdown",
   "metadata": {},
   "source": [
    "### Basic If-Else Statements"
   ]
  },
  {
   "cell_type": "code",
   "execution_count": null,
   "metadata": {},
   "outputs": [],
   "source": [
    "# Basic if-else example\n",
    "num1 = 56\n",
    "num2 = 73\n",
    "\n",
    "if num1 > num2:  # This will be FALSE, so else block will run\n",
    "    print('num1 is big')\n",
    "else:\n",
    "    print('num2 is big')"
   ]
  },
  {
   "cell_type": "code",
   "execution_count": null,
   "metadata": {},
   "outputs": [],
   "source": [
    "# Even/Odd checker\n",
    "n = 58\n",
    "\n",
    "if n % 2 == 0:  # If remainder is 0, number is even\n",
    "    print('Even')\n",
    "else:\n",
    "    print('Odd')"
   ]
  },
  {
   "cell_type": "markdown",
   "metadata": {},
   "source": [
    "### Multiple Conditions with elif"
   ]
  },
  {
   "cell_type": "code",
   "execution_count": null,
   "metadata": {},
   "outputs": [],
   "source": [
    "# Grading system using elif\n",
    "# marks > 30 and < 60 : C\n",
    "# marks > 60 and < 70 : B\n",
    "# marks > 70 and < 90 : A\n",
    "# marks > 90 : A+\n",
    "\n",
    "marks = 75\n",
    "\n",
    "if marks >= 30 and marks <= 60:\n",
    "    print('Grade: C')\n",
    "elif marks > 60 and marks <= 70:\n",
    "    print('Grade: B')\n",
    "elif marks > 70 and marks <= 90:\n",
    "    print('Grade: A')\n",
    "elif marks > 90:\n",
    "    print('Grade: A+')\n",
    "else:\n",
    "    print('Failed - Study harder!')"
   ]
  },
  {
   "cell_type": "markdown",
   "metadata": {},
   "source": [
    "### Nested Conditions"
   ]
  },
  {
   "cell_type": "code",
   "execution_count": null,
   "metadata": {},
   "outputs": [],
   "source": [
    "# Nested if statements\n",
    "country = 'India'  # Simulating user input\n",
    "age = 20          # Simulating user input\n",
    "\n",
    "if country == 'India':  # Main IF block\n",
    "    if age >= 18:       # Nested IF block\n",
    "        print('You are Indian and eligible to vote (age >= 18)')\n",
    "    else:               # Nested ELSE block\n",
    "        print('You are Indian but not eligible to vote (age < 18)')\n",
    "else:                   # Main ELSE block\n",
    "    print('You are not from India!')"
   ]
  },
  {
   "cell_type": "markdown",
   "metadata": {},
   "source": [
    "## 6. String Operations\n",
    "\n",
    "Strings are sequences of characters and Python provides many built-in methods to work with them."
   ]
  },
  {
   "cell_type": "markdown",
   "metadata": {},
   "source": [
    "### String Methods"
   ]
  },
  {
   "cell_type": "code",
   "execution_count": null,
   "metadata": {},
   "outputs": [],
   "source": [
    "# String methods\n",
    "name = 'ShAyAn'\n",
    "\n",
    "print(\"Original:\", name)\n",
    "print(\"Uppercase:\", name.upper())\n",
    "print(\"Lowercase:\", name.lower())\n",
    "print(\"Length:\", len(name))\n",
    "\n",
    "# More string operations\n",
    "greet_chandini = \"Hello Chandini\"\n",
    "print(\"Length of greeting:\", len(greet_chandini))\n",
    "\n",
    "# Replace method\n",
    "greet_shayan = greet_chandini.replace('Chandini', 'Shayan')\n",
    "print(\"After replacement:\", greet_shayan)\n",
    "\n",
    "# Count method\n",
    "count_of_i = greet_chandini.count('i')\n",
    "print(\"Number of 'i' letters:\", count_of_i)\n",
    "\n",
    "# Find method (returns first occurrence index)\n",
    "index_of_C = greet_chandini.find('C')\n",
    "print(\"Index of 'C':\", index_of_C)\n",
    "\n",
    "index_of_i = greet_chandini.find('i')\n",
    "print(\"Index of first 'i':\", index_of_i)\n",
    "\n",
    "# String concatenation\n",
    "first = \"Hey\"\n",
    "second = \"Shayan\"\n",
    "complete = first + \" \" + second\n",
    "print(\"Concatenated string:\", complete)"
   ]
  },
  {
   "cell_type": "markdown",
   "metadata": {},
   "source": [
    "### String Slicing\n",
    "\n",
    "String slicing allows us to extract parts of a string using indices."
   ]
  },
  {
   "cell_type": "code",
   "execution_count": null,
   "metadata": {},
   "outputs": [],
   "source": [
    "# String slicing examples\n",
    "# Indices: C=0, o=1, m=2, p=3, u=4, t=5, e=6, r=7\n",
    "s = 'Computer'\n",
    "\n",
    "print(\"Original string:\", s)\n",
    "print(\"From index 3 onwards:\", s[3:])    # 'puter'\n",
    "print(\"First 4 characters:\", s[:4])      # 'Comp'\n",
    "print(\"Characters 2 to 5:\", s[2:6])      # 'mput'\n",
    "\n",
    "# Complex slicing\n",
    "k = 'America'\n",
    "output = k[2:6][-2]  # First slice 'eric', then get second last character 'i'\n",
    "print(\"Complex slicing result:\", output)"
   ]
  },
  {
   "cell_type": "markdown",
   "metadata": {},
   "source": [
    "### Formatted Strings\n",
    "\n",
    "There are multiple ways to format strings in Python. The f-string method is the most commonly used."
   ]
  },
  {
   "cell_type": "code",
   "execution_count": null,
   "metadata": {},
   "outputs": [],
   "source": [
    "# Different ways to format strings\n",
    "name = 'Python Student'  # Simulating user input\n",
    "\n",
    "# Method 1: f-string (most commonly used and recommended)\n",
    "print(f'Hi {name}, how are you?')\n",
    "\n",
    "# Method 2: String concatenation\n",
    "print('Hi' + ' ' + name + ', ' + 'how are you?')\n",
    "\n",
    "# Method 3: Format method\n",
    "print('Hi {0}, how are you'.format(name))"
   ]
  },
  {
   "cell_type": "markdown",
   "metadata": {},
   "source": [
    "### String Operations - Vowel Counting"
   ]
  },
  {
   "cell_type": "code",
   "execution_count": null,
   "metadata": {},
   "outputs": [],
   "source": [
    "# Count vowels in a string\n",
    "name = 'Shayan'  # Simulating user input\n",
    "count = 0\n",
    "\n",
    "for i in range(0, len(name)):\n",
    "    letter = name[i].lower()\n",
    "    if letter == 'a' or letter == 'e' or letter == 'i' or letter == 'o' or letter == 'u':\n",
    "        count = count + 1\n",
    "\n",
    "print(f\"The string '{name}' has {count} vowels\")"
   ]
  },
  {
   "cell_type": "markdown",
   "metadata": {},
   "source": [
    "## 7. Loops\n",
    "\n",
    "Loops allow us to repeat code multiple times. Python has two main types of loops: `for` loops and `while` loops."
   ]
  },
  {
   "cell_type": "markdown",
   "metadata": {},
   "source": [
    "### For Loops\n",
    "\n",
    "For loops are used when you know how many times you want to repeat something."
   ]
  },
  {
   "cell_type": "code",
   "execution_count": null,
   "metadata": {},
   "outputs": [],
   "source": [
    "# Basic for loop\n",
    "# Note: Upper limit in range() is always excluded\n",
    "print(\"Counting from 1 to 9:\")\n",
    "for i in range(1, 10):\n",
    "    print(f'{i}. Hello Python')"
   ]
  },
  {
   "cell_type": "code",
   "execution_count": null,
   "metadata": {},
   "outputs": [],
   "source": [
    "# Reverse counting\n",
    "print(\"Counting backwards from 10 to 1:\")\n",
    "for i in range(10, 0, -1):\n",
    "    print(i)"
   ]
  },
  {
   "cell_type": "markdown",
   "metadata": {},
   "source": [
    "### For Loop Exercises"
   ]
  },
  {
   "cell_type": "code",
   "execution_count": null,
   "metadata": {},
   "outputs": [],
   "source": [
    "# Exercise 1: Print even numbers in a range\n",
    "lowerLimit = 1\n",
    "upperLimit = 20\n",
    "\n",
    "print(f\"Even numbers between {lowerLimit} and {upperLimit}:\")\n",
    "for i in range(lowerLimit, upperLimit + 1):\n",
    "    if i % 2 == 0:\n",
    "        print(i)"
   ]
  },
  {
   "cell_type": "code",
   "execution_count": null,
   "metadata": {},
   "outputs": [],
   "source": [
    "# Exercise 2: Sum of odd numbers from 1 to 10\n",
    "sum_odd = 0\n",
    "\n",
    "for i in range(1, 11):\n",
    "    if i % 2 != 0:  # If number is odd\n",
    "        sum_odd += i\n",
    "\n",
    "print(f\"Sum of odd numbers from 1 to 10: {sum_odd}\")"
   ]
  },
  {
   "cell_type": "code",
   "execution_count": null,
   "metadata": {},
   "outputs": [],
   "source": [
    "# Exercise 3: Factorial calculation\n",
    "number = 5\n",
    "factorial = 1\n",
    "\n",
    "for i in range(1, number + 1):\n",
    "    factorial *= i\n",
    "\n",
    "print(f'{number}! = {factorial}')"
   ]
  },
  {
   "cell_type": "markdown",
   "metadata": {},
   "source": [
    "### While Loops\n",
    "\n",
    "While loops continue executing as long as a condition is true."
   ]
  },
  {
   "cell_type": "code",
   "execution_count": null,
   "metadata": {},
   "outputs": [],
   "source": [
    "# Basic while loop\n",
    "print(\"Basic while loop - counting 1 to 9:\")\n",
    "k = 1\n",
    "\n",
    "while k < 10:\n",
    "    print(k)\n",
    "    k = k + 1\n",
    "    \n",
    "print(f\"Final value of k: {k}\")"
   ]
  },
  {
   "cell_type": "code",
   "execution_count": null,
   "metadata": {},
   "outputs": [],
   "source": [
    "# While loop with False condition\n",
    "print(\"This while loop will not execute:\")\n",
    "while False:\n",
    "    print('Hi Chandini')  # This will never print\n",
    "\n",
    "print('Out of while loop')  # This will print"
   ]
  },
  {
   "cell_type": "markdown",
   "metadata": {},
   "source": [
    "## 8. Programming Exercises\n",
    "\n",
    "Let's solve some common programming problems using the concepts we've learned."
   ]
  },
  {
   "cell_type": "markdown",
   "metadata": {},
   "source": [
    "### Exercise 1: Palindrome Checker (Using For Loop)"
   ]
  },
  {
   "cell_type": "code",
   "execution_count": null,
   "metadata": {},
   "outputs": [],
   "source": [
    "# Check if a string is palindrome using for loop\n",
    "name = 'madam'  # Example palindrome\n",
    "reverse = \"\"\n",
    "lenOfName = len(name)\n",
    "\n",
    "# Create reverse string\n",
    "for i in range(lenOfName-1, -1, -1):\n",
    "    reverse += name[i]\n",
    "\n",
    "print(f\"Original: {name}\")\n",
    "print(f\"Reverse: {reverse}\")\n",
    "\n",
    "if name == reverse:\n",
    "    print('It is a Palindrome!')\n",
    "else:\n",
    "    print('Not a palindrome')"
   ]
  },
  {
   "cell_type": "markdown",
   "metadata": {},
   "source": [
    "### Exercise 2: Palindrome Checker (Using While Loop)"
   ]
  },
  {
   "cell_type": "code",
   "execution_count": null,
   "metadata": {},
   "outputs": [],
   "source": [
    "# Check if a string is palindrome using while loop\n",
    "name = 'racecar'  # Example palindrome\n",
    "reverse = \"\"\n",
    "k = len(name) - 1\n",
    "\n",
    "while k >= 0:\n",
    "    reverse = reverse + name[k]\n",
    "    k = k - 1\n",
    "\n",
    "print(f\"Original: {name}\")\n",
    "print(f\"Reverse: {reverse}\")\n",
    "\n",
    "if reverse == name:\n",
    "    print('It is a palindrome!')\n",
    "else:\n",
    "    print('Not a palindrome')"
   ]
  },
  {
   "cell_type": "markdown",
   "metadata": {},
   "source": [
    "### Exercise 3: Armstrong Number Checker"
   ]
  },
  {
   "cell_type": "code",
   "execution_count": null,
   "metadata": {},
   "outputs": [],
   "source": [
    "# Check if a number is Armstrong number\n",
    "# Armstrong number: sum of cubes of digits equals the original number\n",
    "# Example: 153 = 1³ + 5³ + 3³ = 1 + 125 + 27 = 153\n",
    "\n",
    "number = 153\n",
    "backup1 = number\n",
    "backup2 = number\n",
    "count = 0\n",
    "\n",
    "# Count number of digits\n",
    "while backup1 != 0:\n",
    "    backup1 = backup1 // 10\n",
    "    count += 1\n",
    "\n",
    "print(f\"Number of digits in {number}: {count}\")\n",
    "\n",
    "# Calculate sum of powers\n",
    "sum_powers = 0\n",
    "while backup2 != 0:\n",
    "    digit = backup2 % 10\n",
    "    sum_powers += digit ** count\n",
    "    backup2 = backup2 // 10\n",
    "\n",
    "print(f\"Sum of powers: {sum_powers}\")\n",
    "\n",
    "if number == sum_powers:\n",
    "    print(f'{number} is an Armstrong number!')\n",
    "else:\n",
    "    print(f'{number} is not an Armstrong number')"
   ]
  },
  {
   "cell_type": "markdown",
   "metadata": {},
   "source": [
    "### Exercise 4: Count Even Digits in a Number"
   ]
  },
  {
   "cell_type": "code",
   "execution_count": null,
   "metadata": {},
   "outputs": [],
   "source": [
    "# Count quantity of even digits in a number\n",
    "# Example: 249 has 1 even digit (2)\n",
    "\n",
    "number = 246810\n",
    "backup = number\n",
    "count = 0\n",
    "\n",
    "while backup != 0:\n",
    "    digit = backup % 10  # Get last digit\n",
    "    if digit % 2 == 0:   # Check if digit is even\n",
    "        count += 1\n",
    "    backup = backup // 10  # Remove last digit\n",
    "\n",
    "print(f'{number} has {count} even digits')"
   ]
  }
 ],
 "metadata": {
  "kernelspec": {
   "display_name": "Python 3",
   "language": "python",
   "name": "python3"
  },
  "language_info": {
   "codemirror_mode": {
    "name": "ipython",
    "version": 3
   },
   "file_extension": ".py",
   "mimetype": "text/x-python",
   "name": "python",
   "nbconvert_exporter": "python",
   "pygments_lexer": "ipython3",
   "version": "3.8.5"
  }
 },
 "nbformat": 4,
 "nbformat_minor": 4
}
